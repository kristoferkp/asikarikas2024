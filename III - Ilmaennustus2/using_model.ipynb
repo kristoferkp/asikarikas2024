{
 "cells": [
  {
   "cell_type": "code",
   "execution_count": 50,
   "metadata": {},
   "outputs": [
    {
     "data": {
      "text/plain": [
       "LSTM(\n",
       "  (rnn): LSTM(12, 512, num_layers=2, batch_first=True)\n",
       "  (fc): Linear(in_features=512, out_features=1, bias=True)\n",
       ")"
      ]
     },
     "execution_count": 50,
     "metadata": {},
     "output_type": "execute_result"
    }
   ],
   "source": [
    "import torch\n",
    "import pandas as pd\n",
    "import torch.nn as nn\n",
    "import numpy as np\n",
    "\n",
    "device = torch.device(\"cuda:0\" if torch.cuda.is_available() else \"cpu\")\n",
    "\n",
    "class LSTM(nn.Module):\n",
    "  def __init__(self, input_dim, hidden_dim, layer_dim, output_dim):\n",
    "    super(LSTM, self).__init__()\n",
    "    self.M = hidden_dim\n",
    "    self.L = layer_dim\n",
    "\n",
    "    self.rnn = nn.LSTM(\n",
    "        input_size=input_dim,\n",
    "        hidden_size=hidden_dim,\n",
    "        num_layers=layer_dim,\n",
    "        batch_first=True)\n",
    "    #batch_first to have (batch_dim, seq_dim, feature_dim)\n",
    "    self.fc = nn.Linear(hidden_dim, output_dim)\n",
    "\n",
    "  def forward(self, X):\n",
    "    # initial hidden state and cell state\n",
    "    h0 = torch.zeros(self.L, X.size(0), self.M).to(device)\n",
    "    c0 = torch.zeros(self.L, X.size(0), self.M).to(device)\n",
    "\n",
    "    out, (hn, cn) = self.rnn(X, (h0.detach(), c0.detach()))\n",
    "\n",
    "    # h(T) at the final time step\n",
    "    out = self.fc(out[:, -1, :])\n",
    "    return out\n",
    "\n",
    "model = LSTM(12, 512, 2, 1)\n",
    "model.load_state_dict(torch.load('LSTM_model.pth'))\n",
    "model.eval()"
   ]
  },
  {
   "cell_type": "code",
   "execution_count": 51,
   "metadata": {},
   "outputs": [],
   "source": [
    "\n",
    "#Reading data \n",
    "weather = pd.read_csv(\"Input.csv\", on_bad_lines='skip')\n",
    "weather = weather[['Aasta','Kuu','Päev','Kell (UTC)','Tunni keskmine summaarne kiirgus W/m²','Õhurõhk merepinna kõrgusel hPa','Õhurõhk jaama kõrgusel hPa','Tunni sademete summa mm','Suhteline õhuniiskus %','Õhutemperatuur °C','Tunni miinimum õhutemperatuur °C','Tunni maksimum õhutemperatuur °C','10 minuti keskmine tuule suund °', '10 minuti keskmine tuule kiirus m/s', 'Tunni maksimum tuule kiirus m/s']]\n",
    "\n",
    "# Combine 'Aasta', 'Kuu', 'Päev' and 'Kell (UTC)' into a datetime\n",
    "weather['Date Time'] = pd.to_datetime(weather['Aasta'].astype(str) + weather['Kuu'].astype(str).str.zfill(2) + weather['Päev'].astype(str).str.zfill(2) + weather['Kell (UTC)'], format='%Y%m%d%H:%M')\n",
    "date_time = weather['Date Time']\n",
    "# Remove the 'Date Time' column\n",
    "weather = weather.drop(['Aasta', 'Kuu', 'Päev', 'Kell (UTC)'], axis=1)\n",
    "\n",
    "weather = weather.rename(columns={'Õhutemperatuur °C': 'temperature', 'Date Time': 'date', 'Tunni keskmine summaarne kiirgus W/m²' : 'radiation','Õhurõhk merepinna kõrgusel hPa' : 'pressure','Õhurõhk jaama kõrgusel hPa': 'pressure2','Tunni sademete summa mm' : 'precip','Suhteline õhuniiskus %' : 'humidity','Tunni miinimum õhutemperatuur °C' : 'tempmin','Tunni maksimum õhutemperatuur °C': 'tempmax','10 minuti keskmine tuule suund °' : 'winddir', '10 minuti keskmine tuule kiirus m/s' : 'windspeed', 'Tunni maksimum tuule kiirus m/s': 'windmax'})\n",
    "weather['date'] = pd.to_datetime(weather['date'])\n",
    "weather.set_index('date')\n",
    "\n",
    "weather.dropna(inplace=True)\n"
   ]
  },
  {
   "cell_type": "code",
   "execution_count": 52,
   "metadata": {},
   "outputs": [],
   "source": [
    "# initial hidden state and cell state\n",
    "h0 = torch.zeros((model.L, new_data.size(0), model.M)).to(device)\n",
    "c0 = torch.zeros((model.L, new_data.size(0), model.M)).to(device)\n"
   ]
  },
  {
   "cell_type": "code",
   "execution_count": 58,
   "metadata": {},
   "outputs": [
    {
     "name": "stdout",
     "output_type": "stream",
     "text": [
      "No predictions available.\n"
     ]
    },
    {
     "name": "stderr",
     "output_type": "stream",
     "text": [
      "C:\\Users\\krist\\AppData\\Local\\Temp\\ipykernel_1244\\1228148478.py:5: FutureWarning: 'all' with datetime64 dtypes is deprecated and will raise in a future version. Use (obj != pd.Timestamp(0)).all() instead.\n",
      "  weather = weather[weather.apply(lambda x: x.str.strip() != '', axis=1).all(axis=1)]\n"
     ]
    }
   ],
   "source": [
    "# Drop rows with empty strings\n",
    "weather = weather.dropna()\n",
    "\n",
    "# Remove rows with empty strings\n",
    "weather = weather[weather.apply(lambda x: x.str.strip() != '', axis=1).all(axis=1)]\n",
    "\n",
    "# Prepare the input data\n",
    "input_data = weather[['radiation', 'pressure', 'pressure2', 'precip', 'humidity', 'winddir', 'windspeed', 'windmax', 'temperature']]\n",
    "input_data = input_data.values.reshape(-1, 1, 12)\n",
    "input_data = torch.from_numpy(input_data.astype(np.float32)).to(device)\n",
    "\n",
    "# Make predictions\n",
    "with torch.no_grad():\n",
    "    predictions = model(input_data)\n",
    "\n",
    "# Check if predictions tensor has any elements\n",
    "if predictions.numel() > 0:\n",
    "    # Print the predicted temperature\n",
    "    predicted_temperature = predictions.item()\n",
    "    print(\"Predicted Temperature:\", predicted_temperature)\n",
    "else:\n",
    "    print(\"No predictions available.\")\n",
    "\n"
   ]
  }
 ],
 "metadata": {
  "kernelspec": {
   "display_name": "Python 3",
   "language": "python",
   "name": "python3"
  },
  "language_info": {
   "codemirror_mode": {
    "name": "ipython",
    "version": 3
   },
   "file_extension": ".py",
   "mimetype": "text/x-python",
   "name": "python",
   "nbconvert_exporter": "python",
   "pygments_lexer": "ipython3",
   "version": "3.12.1"
  }
 },
 "nbformat": 4,
 "nbformat_minor": 2
}
