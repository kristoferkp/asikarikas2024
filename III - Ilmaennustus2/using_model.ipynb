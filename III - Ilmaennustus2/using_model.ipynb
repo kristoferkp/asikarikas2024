{
 "cells": [
  {
   "cell_type": "code",
   "execution_count": 5,
   "metadata": {},
   "outputs": [
    {
     "data": {
      "text/plain": [
       "LSTM(\n",
       "  (rnn): LSTM(12, 512, num_layers=2, batch_first=True)\n",
       "  (fc): Linear(in_features=512, out_features=1, bias=True)\n",
       ")"
      ]
     },
     "execution_count": 5,
     "metadata": {},
     "output_type": "execute_result"
    }
   ],
   "source": [
    "import torch\n",
    "import pandas as pd\n",
    "import torch.nn as nn\n",
    "import numpy as np\n",
    "\n",
    "device = torch.device(\"cuda:0\" if torch.cuda.is_available() else \"cpu\")\n",
    "\n",
    "class LSTM(nn.Module):\n",
    "  def __init__(self, input_dim, hidden_dim, layer_dim, output_dim):\n",
    "    super(LSTM, self).__init__()\n",
    "    self.M = hidden_dim\n",
    "    self.L = layer_dim\n",
    "\n",
    "    self.rnn = nn.LSTM(\n",
    "        input_size=input_dim,\n",
    "        hidden_size=hidden_dim,\n",
    "        num_layers=layer_dim,\n",
    "        batch_first=True)\n",
    "    #batch_first to have (batch_dim, seq_dim, feature_dim)\n",
    "    self.fc = nn.Linear(hidden_dim, output_dim)\n",
    "\n",
    "  def forward(self, X):\n",
    "    # initial hidden state and cell state\n",
    "    h0 = torch.zeros(self.L, X.size(0), self.M).to(device)\n",
    "    c0 = torch.zeros(self.L, X.size(0), self.M).to(device)\n",
    "\n",
    "    out, (hn, cn) = self.rnn(X, (h0.detach(), c0.detach()))\n",
    "\n",
    "    # h(T) at the final time step\n",
    "    out = self.fc(out[:, -1, :])\n",
    "    return out\n",
    "\n",
    "model = LSTM(12, 512, 2, 1)\n",
    "model.load_state_dict(torch.load('LSTM_model.pth', map_location=torch.device('cpu')))\n",
    "model.eval()"
   ]
  },
  {
   "cell_type": "code",
   "execution_count": 6,
   "metadata": {},
   "outputs": [],
   "source": [
    "\n",
    "#Reading data \n",
    "weather = pd.read_csv(\"Input.csv\", on_bad_lines='skip')\n",
    "weather = weather[['Aasta','Kuu','Päev','Kell (UTC)','Tunni keskmine summaarne kiirgus W/m²','Õhurõhk merepinna kõrgusel hPa','Õhurõhk jaama kõrgusel hPa','Tunni sademete summa mm','Suhteline õhuniiskus %','Õhutemperatuur °C','Tunni miinimum õhutemperatuur °C','Tunni maksimum õhutemperatuur °C','10 minuti keskmine tuule suund °', '10 minuti keskmine tuule kiirus m/s', 'Tunni maksimum tuule kiirus m/s']]\n",
    "\n",
    "# Combine 'Aasta', 'Kuu', 'Päev' and 'Kell (UTC)' into a datetime\n",
    "weather['Date Time'] = pd.to_datetime(weather['Aasta'].astype(str) + weather['Kuu'].astype(str).str.zfill(2) + weather['Päev'].astype(str).str.zfill(2) + weather['Kell (UTC)'], format='%Y%m%d%H:%M')\n",
    "date_time = weather['Date Time']\n",
    "# Remove the 'Date Time' column\n",
    "weather = weather.drop(['Aasta', 'Kuu', 'Päev', 'Kell (UTC)'], axis=1)\n",
    "\n",
    "weather = weather.rename(columns={'Õhutemperatuur °C': 'temperature', 'Date Time': 'date', 'Tunni keskmine summaarne kiirgus W/m²' : 'radiation','Õhurõhk merepinna kõrgusel hPa' : 'pressure','Õhurõhk jaama kõrgusel hPa': 'pressure2','Tunni sademete summa mm' : 'precip','Suhteline õhuniiskus %' : 'humidity','Tunni miinimum õhutemperatuur °C' : 'tempmin','Tunni maksimum õhutemperatuur °C': 'tempmax','10 minuti keskmine tuule suund °' : 'winddir', '10 minuti keskmine tuule kiirus m/s' : 'windspeed', 'Tunni maksimum tuule kiirus m/s': 'windmax'})\n",
    "weather['date'] = pd.to_datetime(weather['date'])\n",
    "weather.set_index('date')\n",
    "\n",
    "weather.dropna(inplace=True)\n"
   ]
  },
  {
   "cell_type": "code",
   "execution_count": 7,
   "metadata": {},
   "outputs": [],
   "source": [
    "# initial hidden state and cell state\n",
    "#h0 = torch.zeros((model.L, new_data.size(0), model.M)).to(device)\n",
    "#c0 = torch.zeros((model.L, new_data.size(0), model.M)).to(device)\n"
   ]
  },
  {
   "cell_type": "code",
   "execution_count": 24,
   "metadata": {},
   "outputs": [
    {
     "ename": "IndexError",
     "evalue": "index 1 is out of bounds for axis 1 with size 1",
     "output_type": "error",
     "traceback": [
      "\u001b[0;31m---------------------------------------------------------------------------\u001b[0m",
      "\u001b[0;31mIndexError\u001b[0m                                Traceback (most recent call last)",
      "Cell \u001b[0;32mIn[24], line 24\u001b[0m\n\u001b[1;32m     21\u001b[0m \u001b[38;5;28;01mif\u001b[39;00m predictions\u001b[38;5;241m.\u001b[39mndim \u001b[38;5;241m>\u001b[39m \u001b[38;5;241m1\u001b[39m:\n\u001b[1;32m     22\u001b[0m     \u001b[38;5;66;03m# Get the predicted temperature, tempmin, and tempmax\u001b[39;00m\n\u001b[1;32m     23\u001b[0m     predicted_temperature \u001b[38;5;241m=\u001b[39m predictions[\u001b[38;5;241m0\u001b[39m, \u001b[38;5;241m0\u001b[39m]\n\u001b[0;32m---> 24\u001b[0m     predicted_tempmin \u001b[38;5;241m=\u001b[39m \u001b[43mpredictions\u001b[49m\u001b[43m[\u001b[49m\u001b[38;5;241;43m0\u001b[39;49m\u001b[43m,\u001b[49m\u001b[43m \u001b[49m\u001b[38;5;241;43m1\u001b[39;49m\u001b[43m]\u001b[49m\n\u001b[1;32m     25\u001b[0m     predicted_tempmax \u001b[38;5;241m=\u001b[39m predictions[\u001b[38;5;241m0\u001b[39m, \u001b[38;5;241m2\u001b[39m]\n\u001b[1;32m     26\u001b[0m \u001b[38;5;28;01melse\u001b[39;00m:\n\u001b[1;32m     27\u001b[0m     \u001b[38;5;66;03m# Handle the case when predictions tensor has only one dimension\u001b[39;00m\n",
      "\u001b[0;31mIndexError\u001b[0m: index 1 is out of bounds for axis 1 with size 1"
     ]
    }
   ],
   "source": [
    "# Select the features for prediction\n",
    "# Convert the data to a numpy array with float type\n",
    "data = data.astype(float)\n",
    "\n",
    "# Create a tensor from the data\n",
    "data_tensor = torch.tensor(data, dtype=torch.float32).unsqueeze(0)\n",
    "\n",
    "# Move the tensor to the device\n",
    "data_tensor = data_tensor.to(device)\n",
    "\n",
    "# Make predictions\n",
    "predictions = model(data_tensor)\n",
    "\n",
    "# Convert the predictions tensor to a numpy array\n",
    "predictions = predictions.detach().cpu().numpy()\n",
    "\n",
    "# Denormalize the predictions\n",
    "predictions = (predictions * data.std()) + data.mean()\n",
    "\n",
    "# Check if predictions tensor has enough dimensions\n",
    "if predictions.ndim > 1:\n",
    "    # Get the predicted temperature, tempmin, and tempmax\n",
    "    predicted_temperature = predictions[0, 0]\n",
    "    predicted_tempmin = predictions[0, 1]\n",
    "    predicted_tempmax = predictions[0, 2]\n",
    "else:\n",
    "    # Handle the case when predictions tensor has only one dimension\n",
    "    predicted_temperature = predictions[0]\n",
    "    predicted_tempmin = predictions[0]\n",
    "    predicted_tempmax = predictions[0]\n"
   ]
  }
 ],
 "metadata": {
  "kernelspec": {
   "display_name": "Python 3",
   "language": "python",
   "name": "python3"
  },
  "language_info": {
   "codemirror_mode": {
    "name": "ipython",
    "version": 3
   },
   "file_extension": ".py",
   "mimetype": "text/x-python",
   "name": "python",
   "nbconvert_exporter": "python",
   "pygments_lexer": "ipython3",
   "version": "3.10.13"
  }
 },
 "nbformat": 4,
 "nbformat_minor": 2
}
